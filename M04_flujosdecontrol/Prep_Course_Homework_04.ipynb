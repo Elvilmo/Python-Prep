{
 "cells": [
  {
   "attachments": {},
   "cell_type": "markdown",
   "metadata": {},
   "source": [
    "## Flujos de Control"
   ]
  },
  {
   "attachments": {},
   "cell_type": "markdown",
   "metadata": {},
   "source": [
    "1) Crear una variable que contenga un elemento del conjunto de números enteros y luego imprimir por pantalla si es mayor o menor a cero"
   ]
  },
  {
   "cell_type": "code",
   "execution_count": 8,
   "metadata": {},
   "outputs": [
    {
     "name": "stdout",
     "output_type": "stream",
     "text": [
      "0 es igual a 0\n"
     ]
    }
   ],
   "source": [
    "f=0\n",
    "if (f<0):\n",
    "    print(f,\"es menor que 0\")\n",
    "elif (f>0):\n",
    "    print(f,\"es mayor que 0\")\n",
    "else:\n",
    "    print(f,\"es igual a 0\")\n"
   ]
  },
  {
   "attachments": {},
   "cell_type": "markdown",
   "metadata": {},
   "source": [
    "2) Crear dos variables y un condicional que informe si son del mismo tipo de dato"
   ]
  },
  {
   "cell_type": "code",
   "execution_count": 9,
   "metadata": {},
   "outputs": [
    {
     "name": "stdout",
     "output_type": "stream",
     "text": [
      "No son el mismo tipo de dato\n"
     ]
    }
   ],
   "source": [
    "m=3\n",
    "n=\"3\"\n",
    "if (type(n)==type(m)):\n",
    "    print(\"Si son el mismo tipo de dato\")\n",
    "elif (type(n)!=type(m)):\n",
    "    print(\"No son el mismo tipo de dato\")\n",
    "    #nota personal: si son variable booleanas solo es necesario especificar una de las condiciones"
   ]
  },
  {
   "attachments": {},
   "cell_type": "markdown",
   "metadata": {},
   "source": [
    "3) Para los valores enteros del 1 al 20, imprimir por pantalla si es par o impar"
   ]
  },
  {
   "cell_type": "code",
   "execution_count": 20,
   "metadata": {},
   "outputs": [
    {
     "name": "stdout",
     "output_type": "stream",
     "text": [
      "el número 1 es impar\n",
      "el número 2 es par\n",
      "el número 3 es impar\n",
      "el número 4 es par\n",
      "el número 5 es impar\n",
      "el número 6 es par\n",
      "el número 7 es impar\n",
      "el número 8 es par\n",
      "el número 9 es impar\n",
      "el número 10 es par\n",
      "el número 11 es impar\n",
      "el número 12 es par\n",
      "el número 13 es impar\n",
      "el número 14 es par\n",
      "el número 15 es impar\n",
      "el número 16 es par\n",
      "el número 17 es impar\n",
      "el número 18 es par\n",
      "el número 19 es impar\n"
     ]
    }
   ],
   "source": [
    "\n",
    "for m in range(1,20):\n",
    "    if m % 2==0:\n",
    "        print(\"el número\",m,\"es par\")\n",
    "    else:\n",
    "        print(\"el número\",m,\"es impar\")"
   ]
  },
  {
   "attachments": {},
   "cell_type": "markdown",
   "metadata": {},
   "source": [
    "4) En un ciclo for mostrar para los valores entre 0 y 5 el resultado de elevarlo a la potencia igual a 3"
   ]
  },
  {
   "cell_type": "code",
   "execution_count": 25,
   "metadata": {},
   "outputs": [
    {
     "name": "stdout",
     "output_type": "stream",
     "text": [
      "0 elevado al cubo es 0\n",
      "1 elevado al cubo es 1\n",
      "2 elevado al cubo es 8\n",
      "3 elevado al cubo es 27\n",
      "4 elevado al cubo es 64\n",
      "5 elevado al cubo es 125\n"
     ]
    }
   ],
   "source": [
    "for n in range(0,6):\n",
    "    m=n**3\n",
    "    print(n,\"elevado al cubo es\",m)\n",
    "    "
   ]
  },
  {
   "attachments": {},
   "cell_type": "markdown",
   "metadata": {},
   "source": [
    "5) Crear una variable que contenga un número entero y realizar un ciclo for la misma cantidad de ciclos"
   ]
  },
  {
   "cell_type": "code",
   "execution_count": 36,
   "metadata": {},
   "outputs": [
    {
     "name": "stdout",
     "output_type": "stream",
     "text": [
      "34\n"
     ]
    }
   ],
   "source": [
    "n = 35\n",
    "for l in range(0, n):\n",
    "    pass\n",
    "print(l)\n"
   ]
  },
  {
   "attachments": {},
   "cell_type": "markdown",
   "metadata": {},
   "source": [
    "6) Utilizar un ciclo while para realizar el factorial de un número guardado en una variable, sólo si la variable contiene un número entero mayor a 0"
   ]
  },
  {
   "cell_type": "code",
   "execution_count": 47,
   "metadata": {},
   "outputs": [
    {
     "name": "stdout",
     "output_type": "stream",
     "text": [
      "El factorial es 24\n"
     ]
    }
   ],
   "source": [
    "g=4\n",
    "if type (g) ==int:\n",
    "    if (g > 0):\n",
    "        f=g\n",
    "        while (g > 2):\n",
    "            g = g - 1\n",
    "            f = f * g\n",
    "        print(\"El factorial es\",f)\n",
    "    else:\n",
    "        print (\"El numero es menor que 0\")\n",
    "else:\n",
    "    print (\"El numero no es entero\")\n",
    "\n",
    "\n",
    "\n",
    "    \n"
   ]
  },
  {
   "attachments": {},
   "cell_type": "markdown",
   "metadata": {},
   "source": [
    "7) Crear un ciclo for dentro de un ciclo while"
   ]
  },
  {
   "cell_type": "code",
   "execution_count": 68,
   "metadata": {},
   "outputs": [
    {
     "name": "stdout",
     "output_type": "stream",
     "text": [
      "La potencia es 0\n",
      "La potencia es 1\n",
      "La potencia es 16\n",
      "La potencia es 81\n",
      "La potencia es 256\n",
      "La potencia es 625\n",
      "La potencia es 1296\n",
      "La potencia es 0\n",
      "La potencia es 1\n",
      "La potencia es 16\n",
      "La potencia es 81\n",
      "La potencia es 256\n",
      "La potencia es 625\n"
     ]
    }
   ],
   "source": [
    "n = 7\n",
    "while (n > 5):\n",
    "    for l in range(0 , n):\n",
    "        m = l ** 4\n",
    "        print(\"La potencia es\",m)\n",
    "    n=n-1\n",
    "    "
   ]
  },
  {
   "attachments": {},
   "cell_type": "markdown",
   "metadata": {},
   "source": [
    "8) Crear un ciclo while dentro de un ciclo for"
   ]
  },
  {
   "cell_type": "code",
   "execution_count": 76,
   "metadata": {},
   "outputs": [
    {
     "name": "stdout",
     "output_type": "stream",
     "text": [
      "0\n",
      "El número 20 es inválido porque es impar\n",
      "2\n",
      "El número 20 es inválido porque es impar\n",
      "4\n",
      "El número 20 es inválido porque es impar\n",
      "6\n",
      "El número 20 es inválido porque es impar\n",
      "8\n",
      "El número 20 es inválido porque es impar\n",
      "10\n",
      "El número 20 es inválido porque es impar\n",
      "12\n",
      "El número 20 es inválido porque es impar\n",
      "14\n",
      "El número 20 es inválido porque es impar\n",
      "16\n",
      "El número 20 es inválido porque es impar\n",
      "18\n",
      "El número 20 es inválido porque es impar\n"
     ]
    }
   ],
   "source": [
    "n=20\n",
    "for k in range (0,n):\n",
    "    while (k % 2 != 0):\n",
    "        print (\"El número\",n,\"es inválido porque es impar\")\n",
    "        break\n",
    "    while (k % 2 == 0):\n",
    "        print (k)\n",
    "        break\n",
    "\n",
    "\n"
   ]
  },
  {
   "attachments": {},
   "cell_type": "markdown",
   "metadata": {},
   "source": [
    "9) Imprimir los números primos existentes entre 0 y 30"
   ]
  },
  {
   "cell_type": "code",
   "execution_count": 105,
   "metadata": {},
   "outputs": [
    {
     "name": "stdout",
     "output_type": "stream",
     "text": [
      "2\n",
      "3\n",
      "5\n",
      "7\n",
      "11\n",
      "13\n",
      "17\n",
      "19\n",
      "23\n",
      "29\n"
     ]
    }
   ],
   "source": [
    "tope_rango=30\n",
    "n = 2\n",
    "while (n < tope_rango):\n",
    "    primo = True\n",
    "    for div in range(2, n):\n",
    "        if (n % div == 0):\n",
    "            primo = False\n",
    "    if (primo):\n",
    "        print(n)\n",
    "    else:\n",
    "        primo = True\n",
    "    n += 1"
   ]
  },
  {
   "attachments": {},
   "cell_type": "markdown",
   "metadata": {},
   "source": [
    "10) ¿Se puede mejorar el proceso del punto 9? Utilizar las sentencias break y/ó continue para tal fin"
   ]
  },
  {
   "cell_type": "code",
   "execution_count": 104,
   "metadata": {},
   "outputs": [
    {
     "name": "stdout",
     "output_type": "stream",
     "text": [
      "2\n",
      "3\n",
      "5\n",
      "7\n",
      "11\n",
      "13\n",
      "17\n",
      "19\n",
      "23\n",
      "29\n"
     ]
    }
   ],
   "source": [
    "tope_rango = 30\n",
    "n = 2  \n",
    "while n < tope_rango:\n",
    "    primo = True  \n",
    "    for div in range(2, n):\n",
    "        if n % div == 0:\n",
    "            primo = False  \n",
    "            break  \n",
    "    if primo:\n",
    "        print(n)\n",
    "    n += 1\n",
    "\n"
   ]
  },
  {
   "attachments": {},
   "cell_type": "markdown",
   "metadata": {},
   "source": [
    "11) En los puntos 9 y 10, se diseño un código que encuentra números primos y además se lo optimizó. ¿Es posible saber en qué medida se optimizó?"
   ]
  },
  {
   "cell_type": "code",
   "execution_count": 109,
   "metadata": {},
   "outputs": [
    {
     "name": "stdout",
     "output_type": "stream",
     "text": [
      "2\n",
      "3\n",
      "5\n",
      "7\n",
      "11\n",
      "13\n",
      "17\n",
      "19\n",
      "23\n",
      "29\n",
      "Tiempo transcurrido: 0.0009987354278564453 segundos\n"
     ]
    }
   ],
   "source": [
    "# Midiendo tiempo 9\n",
    "import time\n",
    "inicio_tiempo = time.time()\n",
    "tope_rango=30\n",
    "n = 2\n",
    "while (n < tope_rango):\n",
    "    primo = True\n",
    "    for div in range(2, n):\n",
    "        if (n % div == 0):\n",
    "            primo = False\n",
    "    if (primo):\n",
    "        print(n)\n",
    "    else:\n",
    "        primo = True\n",
    "    n += 1\n",
    "\n",
    "fin_tiempo = time.time()\n",
    "tiempo_transcurrido = fin_tiempo - inicio_tiempo\n",
    "\n",
    "print(\"Tiempo transcurrido:\", tiempo_transcurrido, \"segundos\")\n",
    "\n"
   ]
  },
  {
   "cell_type": "code",
   "execution_count": 108,
   "metadata": {},
   "outputs": [
    {
     "name": "stdout",
     "output_type": "stream",
     "text": [
      "2\n",
      "3\n",
      "5\n",
      "7\n",
      "11\n",
      "13\n",
      "17\n",
      "19\n",
      "23\n",
      "29\n",
      "Tiempo transcurrido: 0.0009984970092773438 segundos\n"
     ]
    }
   ],
   "source": [
    "# Midiendo tiempo 10\n",
    "import time\n",
    "\n",
    "inicio_tiempo = time.time()\n",
    "tope_rango = 30\n",
    "n = 2  \n",
    "while n < tope_rango:\n",
    "    primo = True  \n",
    "    for div in range(2, n):\n",
    "        if n % div == 0:\n",
    "            primo = False  \n",
    "            break  \n",
    "    if primo:\n",
    "        print(n)\n",
    "    n += 1\n",
    "print(\"Tiempo transcurrido:\", tiempo_transcurrido, \"segundos\")\n"
   ]
  },
  {
   "cell_type": "code",
   "execution_count": null,
   "metadata": {},
   "outputs": [],
   "source": [
    "# observamos que al usar break el tiempo de ejecución baja"
   ]
  },
  {
   "attachments": {},
   "cell_type": "markdown",
   "metadata": {},
   "source": [
    "12) Aplicando continue, armar un ciclo while que solo imprima los valores divisibles por 12, dentro del rango de números de 100 a 300"
   ]
  },
  {
   "cell_type": "code",
   "execution_count": 88,
   "metadata": {},
   "outputs": [
    {
     "name": "stdout",
     "output_type": "stream",
     "text": [
      "108\n",
      "120\n",
      "132\n",
      "144\n",
      "156\n",
      "168\n",
      "180\n",
      "192\n",
      "204\n",
      "216\n",
      "228\n",
      "240\n",
      "252\n",
      "264\n",
      "276\n",
      "288\n",
      "300\n"
     ]
    }
   ],
   "source": [
    "k = 100\n",
    "while k <= 300:\n",
    "    if k % 12 != 0:\n",
    "        k +=1\n",
    "        continue\n",
    "    print (k)\n",
    "    k += 1\n"
   ]
  },
  {
   "attachments": {},
   "cell_type": "markdown",
   "metadata": {},
   "source": [
    "13) Utilizar la función **input()** que permite hacer ingresos por teclado, para encontrar números primos y dar la opción al usario de buscar el siguiente"
   ]
  },
  {
   "cell_type": "code",
   "execution_count": 18,
   "metadata": {},
   "outputs": [
    {
     "name": "stdout",
     "output_type": "stream",
     "text": [
      "2\n",
      "Desea continuar con el siguiente primo, coloque si o no\n",
      "3\n",
      "Desea continuar con el siguiente primo, coloque si o no\n",
      "5\n",
      "Desea continuar con el siguiente primo, coloque si o no\n",
      "7\n",
      "Desea continuar con el siguiente primo, coloque si o no\n",
      "El ciclo a finalizado\n"
     ]
    }
   ],
   "source": [
    "\n",
    "continuar = \"si\"\n",
    "n=2\n",
    "while( continuar == \"si\"):\n",
    "    primo = True\n",
    "    for ni in range (2, n):\n",
    "        if ( n % ni == 0):\n",
    "            primo=False\n",
    "            break\n",
    "    if (primo):\n",
    "        print (n)\n",
    "        print (\"Desea continuar con el siguiente primo, coloque si o no\")\n",
    "        if (input() != \"si\"):\n",
    "            print (\"El ciclo a finalizado\")\n",
    "            break\n",
    "    n += 1\n",
    "\n"
   ]
  },
  {
   "attachments": {},
   "cell_type": "markdown",
   "metadata": {},
   "source": [
    "14) Crear un ciclo while que encuentre dentro del rango de 100 a 300 el primer número divisible por 3 y además múltiplo de 6"
   ]
  },
  {
   "cell_type": "code",
   "execution_count": 24,
   "metadata": {},
   "outputs": [
    {
     "name": "stdout",
     "output_type": "stream",
     "text": [
      "102\n"
     ]
    }
   ],
   "source": [
    "\n",
    "f = 100\n",
    "\n",
    "while f <= 300:\n",
    "    if f % 3 == 0 and f % 6 == 0:\n",
    "        print(f)\n",
    "        break  \n",
    "    f = f + 1\n",
    "\n",
    "\n",
    "    "
   ]
  }
 ],
 "metadata": {
  "interpreter": {
   "hash": "c85384e4cb51c8b72350f3a8712cc8351fdc3955e32a27f9b60c6242ab125f01"
  },
  "kernelspec": {
   "display_name": "Python 3 (ipykernel)",
   "language": "python",
   "name": "python3"
  },
  "language_info": {
   "codemirror_mode": {
    "name": "ipython",
    "version": 3
   },
   "file_extension": ".py",
   "mimetype": "text/x-python",
   "name": "python",
   "nbconvert_exporter": "python",
   "pygments_lexer": "ipython3",
   "version": "3.11.5"
  }
 },
 "nbformat": 4,
 "nbformat_minor": 4
}
